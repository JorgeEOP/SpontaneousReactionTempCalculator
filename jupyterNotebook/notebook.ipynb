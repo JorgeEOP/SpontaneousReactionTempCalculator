{
 "cells": [
  {
   "cell_type": "markdown",
   "id": "f9db7225",
   "metadata": {},
   "source": [
    "# Case Study: a Calculation of Critical Temperature"
   ]
  },
  {
   "cell_type": "markdown",
   "id": "e32a7a2d",
   "metadata": {},
   "source": [
    "## Equation governing the change of Gibbs energy in a system:\n",
    "The equation that gives the Gibbs free energy is written as:\n",
    "$$ \\Delta G^{o} = \\Delta H^{o} - T \\Delta S^{o} $$\n",
    "\n",
    "Since $T > 0$, and the changes in Enthalpy and Entropy can be either positive or negative,\n",
    "then the sign of $\\Delta G$ can either be positive, negative or zero.\n",
    "\n",
    "## When do we have an spontaneous Reaction?\n",
    "By definition: an spontaneous reaction releases Free energy. In other words, when the system looses energy.\n",
    "Mathematically:\n",
    "$$ \\Delta G^{o} < 0 $$\n",
    "\n",
    "## We have several scenarios then!\n",
    "Because the temperature is always positive (in *Kelvins*), we can only have a negative Gibbs free energy in the \n",
    "following cases:\n",
    "* $\\Delta H^{o} < 0$  and  $\\Delta S^{o} > 0$\n",
    "* $\\Delta H^{o} < 0$  and  $\\Delta S^{o} < 0$  but  $T \\Delta S^{o} < \\Delta H^{o}$\n",
    "* $\\Delta H^{o} > 0$  and  $\\Delta S^{o} > 0$  but  $T \\Delta S^{o} > \\Delta H^{o}$ "
   ]
  },
  {
   "cell_type": "markdown",
   "id": "287bc048",
   "metadata": {},
   "source": [
    "## But the Enthalpy and Entropy of a molecule also vary with the temperature!\n",
    "Since the entroy and enthalpy are also quantities that depend on the energy, we need to take their changes into cosideration.\n",
    "The Entropy and Enthalpy can be calculated using some formulas (see the appendix).\n",
    "These formulas contain some coefficients which depend on the temperature.\n",
    "But in principle, the Entropy and Enthalpy can be calculated for different reanges of temperatures."
   ]
  },
  {
   "cell_type": "markdown",
   "id": "60367f1d",
   "metadata": {},
   "source": [
    "## Now we have the Entropies and Entalphies. What next?\n",
    "A chemical reaction can have several molecules of the same species as reactors and products.\n",
    "This is important because the changes in Entropy and Enthalpy depend on how many molecules we have.\n",
    "\n",
    "At the end, to calculate the changes in Entropy and Enthalpy, we have to add up all the enthalpy(entropy) of\n",
    "of the reactants/products and substract products to reactants\n",
    "$$ \\Delta H^{o} = \\Sigma n \\Delta H^{o} - \\Sigma m \\Delta H^{o} $$\n",
    "$$ \\Delta S^{o} = \\Sigma n \\Delta S^{o} - \\Sigma m \\Delta S^{o} $$"
   ]
  },
  {
   "cell_type": "markdown",
   "id": "37791fd1",
   "metadata": {},
   "source": [
    "## Calculating the Temperature\n",
    "With all this information, we can now calculate all the values of the Gibbs energy, and see when it's lower than 0!\n",
    "So, in order to calculate this, we have collected so far the following infomration:\n",
    "\n",
    "* And the number of each molecules type in the Reactants and Products.\n",
    "* A Temperature range.\n",
    "* The values of the Shomate Coefficients for each individual molecule in that temperature range."
   ]
  },
  {
   "cell_type": "markdown",
   "id": "787737bf",
   "metadata": {},
   "source": [
    "## What belongs to where?\n",
    "### A User\n",
    "* I don't really care about coefficients, formulas or how do we get the Entropy and Enthalpy.\n",
    "* I only want to provide my _chemical reaction_, an if I am in the mood, a _range of temperatures_.\n",
    "* I would like to have the temperature at which the process is spontaneous; if I provided a range, and the reaction can not happen spontaneously in that range, let me know.\n",
    " * Tell me the temperature at which the process is spontaneous."
   ]
  },
  {
   "cell_type": "markdown",
   "id": "ded1b1dd",
   "metadata": {},
   "source": [
    "## How to test it?\n",
    "In order to test it, we need typical reactions which we know the experimental(also theoretical) temperature values when the reaction is spontaneous.\n",
    "* We provide: reaction, Temperature range.\n",
    "* We expect: the exact Temperature.\n",
    "\n",
    "In case a spontaneous process do not occur in a temperature range, we need to be ready to output to the user that such process does not have such a temperature.\n",
    "* We provide: reaction, Temperature range.\n",
    "* We expect: Warning message. Suggestion of Temperature range.\n",
    "\n",
    "In case a Process is not possible. Based on chemistry rules, if the process can not occur.\n",
    "* We provide a wrong chemical process.\n",
    "* We expect: return an error and a ML suggestion of possible correct reactions."
   ]
  },
  {
   "cell_type": "markdown",
   "id": "aa3eb98c",
   "metadata": {},
   "source": [
    "### Appendix:\n",
    "#### Shomate Equation\n"
   ]
  }
 ],
 "metadata": {
  "language_info": {
   "name": "python"
  }
 },
 "nbformat": 4,
 "nbformat_minor": 5
}
