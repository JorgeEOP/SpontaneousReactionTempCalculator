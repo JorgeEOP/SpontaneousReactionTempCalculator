{
 "cells": [
  {
   "cell_type": "markdown",
   "id": "f9db7225",
   "metadata": {
    "slideshow": {
     "slide_type": "-"
    }
   },
   "source": [
    "# Case Study: a Calculation of Critical Temperature"
   ]
  },
  {
   "cell_type": "markdown",
   "id": "7a296cb1",
   "metadata": {
    "slideshow": {
     "slide_type": "slide"
    }
   },
   "source": [
    "## The problem"
   ]
  },
  {
   "cell_type": "markdown",
   "id": "a1ee14ba",
   "metadata": {
    "slideshow": {
     "slide_type": "subslide"
    }
   },
   "source": [
    "Given the following chemical reaction:\n",
    "$$ 4Fe + 3O_{2} \\rightarrow 2Fe_{2}O_{3} $$\n",
    "* How can we calculate the temperature at which the reaction is spontaneous?\n",
    "* What special cases have to be considered to calculate such temperature?"
   ]
  },
  {
   "cell_type": "markdown",
   "id": "535703a4",
   "metadata": {
    "slideshow": {
     "slide_type": "slide"
    }
   },
   "source": [
    "## The Theory"
   ]
  },
  {
   "cell_type": "markdown",
   "id": "e32a7a2d",
   "metadata": {
    "slideshow": {
     "slide_type": "subslide"
    }
   },
   "source": [
    "Change of Enthalpy and Entropy dictate when a reaction is Spontaneous or non Spontaneous.\n",
    "\n",
    "### Equation governing the change of Gibbs energy in a system:\n",
    "The equation that gives the Gibbs free energy is written as:\n",
    "$$ \\Delta G^{o} = \\Delta H^{o} - T \\Delta S^{o} $$\n",
    "\n",
    "Since $T > 0$ (in Kelvin), and the changes in Enthalpy and Entropy can be either positive or negative,\n",
    "then the sign of $\\Delta G$ can either be positive, negative or zero."
   ]
  },
  {
   "cell_type": "markdown",
   "id": "647fa49d",
   "metadata": {
    "slideshow": {
     "slide_type": "subslide"
    }
   },
   "source": [
    "### When do we have an spontaneous Reaction?\n",
    "By definition: an spontaneous reaction releases Free energy. In other words, when the system looses energy.\n",
    "Mathematically:\n",
    "$$ \\Delta G^{o} < 0 $$\n",
    "\n",
    "### The scenarios\n",
    "Because the temperature is always positive, we can only have a negative Gibbs free energy in the \n",
    "following cases:\n",
    "* $\\Delta H^{o} < 0$  and  $\\Delta S^{o} > 0$ (In this case, the process is Always spontaneous!)\n",
    "* $\\Delta H^{o} < 0$  and  $\\Delta S^{o} < 0$  but  $T \\Delta S^{o} < \\Delta H^{o}$\n",
    "* $\\Delta H^{o} > 0$  and  $\\Delta S^{o} > 0$  but  $T \\Delta S^{o} > \\Delta H^{o}$ "
   ]
  },
  {
   "cell_type": "markdown",
   "id": "287bc048",
   "metadata": {
    "slideshow": {
     "slide_type": "subslide"
    }
   },
   "source": [
    "### Enthalpy and Entropy also vary with the temperature\n",
    "* Enthalpy and Entropy depend on the temperature:\n",
    " * We need to take their changes into cosideration.\n",
    "* Enthalpy and Entropy depend also on their physical state\n",
    " * Gas, liquid, solid.\n",
    "* The Enthalpy and Entropy can be calculated using some formulas (see the appendix).\n",
    " * These formulas contain some coefficients which depend on the temperature.\n",
    "\n",
    "* In principle, the Entropy and Enthalpy can be calculated for different ranges of temperatures."
   ]
  },
  {
   "cell_type": "markdown",
   "id": "60367f1d",
   "metadata": {
    "slideshow": {
     "slide_type": "subslide"
    }
   },
   "source": [
    "### Now we have the Entropies and Entalphies. What next?\n",
    "* A chemical reaction can have several molecules of the same species as reactors and products.\n",
    "* Important because the changes in Entropy and Enthalpy depend on how many molecules we have.\n",
    "\n",
    "* To calculate the changes in Enthalpy and Entropy\n",
    " * Add up all the Enthalpy(Entropy) of the reactants/products.\n",
    " * Substract reactants ($m$) to products($n$)\n",
    "$$ \\Delta H^{o} = \\Sigma n \\Delta H^{o} - \\Sigma m \\Delta H^{o} $$\n",
    "$$ \\Delta S^{o} = \\Sigma n \\Delta S^{o} - \\Sigma m \\Delta S^{o} $$"
   ]
  },
  {
   "cell_type": "markdown",
   "id": "37791fd1",
   "metadata": {
    "slideshow": {
     "slide_type": "subslide"
    }
   },
   "source": [
    "### Calculating the Temperature\n",
    "* With all this information, we can now calculate all the values of the Gibbs energy, and see when it's lower than 0!\n",
    "* We need:\n",
    " * The molecules in the reaction and the quantity of each.\n",
    " * A Temperature range.\n",
    " * The values of the Shomate Coefficients for each individual molecule in that temperature range."
   ]
  },
  {
   "cell_type": "markdown",
   "id": "17084ee3",
   "metadata": {
    "slideshow": {
     "slide_type": "slide"
    }
   },
   "source": [
    "## The practice"
   ]
  },
  {
   "cell_type": "markdown",
   "id": "787737bf",
   "metadata": {
    "slideshow": {
     "slide_type": "subslide"
    }
   },
   "source": [
    "### What belongs to where?\n",
    "### A User\n",
    "#### The input\n",
    "* Don't really care about coefficients, formulas or how do we get the Entropy and Enthalpy.\n",
    "* I only want to provide:\n",
    " * A _Chemical reaction_, an if I am in the mood, a _Range of temperatures_. The range could be between 0 and 2000 K.\n",
    " * A Default _Range of temperatures_ should be provided.\n",
    "\n",
    "#### The output\n",
    "* I want:\n",
    " * The temperature at which the process is spontaneous.\n",
    "  * If I provided a range:\n",
    "   * If the reaction can not happen spontaneously in that range, let me know.\n",
    "  * If I did not provided a range:\n",
    "   * Calculate in a default range."
   ]
  },
  {
   "cell_type": "markdown",
   "id": "019c7153",
   "metadata": {
    "slideshow": {
     "slide_type": "subslide"
    }
   },
   "source": [
    "### Is the temperature range necessary?\n",
    "Yes. If the Temperature calculator contains a ML algorithm, the computational time can be higher or lower depending on the temperature range.\n",
    "The user can provide a range in which he knows the process is spontaneous OR try to figure it out if it could happend."
   ]
  },
  {
   "cell_type": "markdown",
   "id": "3b87268c",
   "metadata": {
    "slideshow": {
     "slide_type": "subslide"
    }
   },
   "source": [
    "### What else could be added?\n",
    "As all the thermodynamic properties, Enthalpy and Entropy also depend on Pressure.\n",
    "* As an enhancement, one could also allow the user to input a pressure at which the temperature has be be calculated."
   ]
  },
  {
   "cell_type": "markdown",
   "id": "ded1b1dd",
   "metadata": {
    "slideshow": {
     "slide_type": "subslide"
    }
   },
   "source": [
    "### How to test it?\n",
    "In order to test it, we need typical reactions which we know the experimental(also theoretical) temperature values when the reaction is spontaneous.\n",
    "* We provide: reaction, Temperature range.\n",
    "* We expect: the exact Temperature.\n",
    "\n",
    "In case a spontaneous process do not occur in a temperature range, we need to be ready to output to the user that such process does not have such a temperature.\n",
    "* We provide: reaction, Temperature range.\n",
    "* We expect: Warning message.\n",
    " * Ideally: A suggestion of temperature range.\n",
    "\n",
    "In case a Process is not possible. Based on chemistry rules, if the process can not occur.\n",
    "* We provide a wrong chemical process.\n",
    "* We expect: return an error. \n",
    " * Ideally a ML suggestion of possible correct reactions."
   ]
  },
  {
   "cell_type": "markdown",
   "id": "aa3eb98c",
   "metadata": {
    "slideshow": {
     "slide_type": "slide"
    }
   },
   "source": [
    "### Appendix:\n",
    "#### Shomate Equation\n"
   ]
  }
 ],
 "metadata": {
  "celltoolbar": "Slideshow",
  "kernelspec": {
   "display_name": "Python 3 (ipykernel)",
   "language": "python",
   "name": "python3"
  },
  "language_info": {
   "codemirror_mode": {
    "name": "ipython",
    "version": 3
   },
   "file_extension": ".py",
   "mimetype": "text/x-python",
   "name": "python",
   "nbconvert_exporter": "python",
   "pygments_lexer": "ipython3",
   "version": "3.9.21"
  }
 },
 "nbformat": 4,
 "nbformat_minor": 5
}
